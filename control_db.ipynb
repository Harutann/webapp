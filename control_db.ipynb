{
 "cells": [
  {
   "cell_type": "code",
   "execution_count": 4,
   "metadata": {},
   "outputs": [],
   "source": [
    "import sqlite3\n",
    "con = sqlite3.connect('./test_db')"
   ]
  },
  {
   "cell_type": "code",
   "execution_count": 5,
   "metadata": {},
   "outputs": [
    {
     "name": "stdout",
     "output_type": "stream",
     "text": [
      "(1, 'name_a', 10.5)\n",
      "1\n",
      "name_a\n",
      "10.5\n",
      "(3, 'c_update', 3.14)\n",
      "3\n",
      "c_update\n",
      "3.14\n",
      "(4, 'from_model', 100.0)\n",
      "4\n",
      "from_model\n",
      "100.0\n",
      "(100, 'name_z', 99.9)\n",
      "100\n",
      "name_z\n",
      "99.9\n"
     ]
    }
   ],
   "source": [
    "cur = con.cursor()\n",
    "for row in cur.execute('SELECT * FROM person'):\n",
    "    print(row)\n",
    "    for column in row:\n",
    "        print(column)\n"
   ]
  },
  {
   "cell_type": "code",
   "execution_count": 6,
   "metadata": {},
   "outputs": [
    {
     "ename": "IntegrityError",
     "evalue": "UNIQUE constraint failed: person.id",
     "output_type": "error",
     "traceback": [
      "\u001b[0;31m---------------------------------------------------------------------------\u001b[0m",
      "\u001b[0;31mIntegrityError\u001b[0m                            Traceback (most recent call last)",
      "Cell \u001b[0;32mIn[6], line 3\u001b[0m\n\u001b[1;32m      1\u001b[0m insert_sql \u001b[39m=\u001b[39m \u001b[39m'\u001b[39m\u001b[39m INSERT INTO person VALUES(?, ?, ?)\u001b[39m\u001b[39m'\u001b[39m\n\u001b[1;32m      2\u001b[0m insert_param \u001b[39m=\u001b[39m (\u001b[39m100\u001b[39m, \u001b[39m'\u001b[39m\u001b[39mname_z\u001b[39m\u001b[39m'\u001b[39m, \u001b[39m99.9\u001b[39m)\n\u001b[0;32m----> 3\u001b[0m cur\u001b[39m.\u001b[39;49mexecute(insert_sql, insert_param) \n",
      "\u001b[0;31mIntegrityError\u001b[0m: UNIQUE constraint failed: person.id"
     ]
    }
   ],
   "source": [
    "insert_sql = ' INSERT INTO person VALUES(?, ?, ?)'\n",
    "insert_param = (100, 'name_z', 99.9)\n",
    "cur.execute(insert_sql, insert_param) \n"
   ]
  },
  {
   "cell_type": "code",
   "execution_count": null,
   "metadata": {},
   "outputs": [],
   "source": [
    "con.commit()\n"
   ]
  },
  {
   "cell_type": "code",
   "execution_count": null,
   "metadata": {},
   "outputs": [
    {
     "name": "stdout",
     "output_type": "stream",
     "text": [
      "[(1, 'name_a', 10.5), (100, 'name_z', 99.9)]\n"
     ]
    }
   ],
   "source": [
    "cur.execute('SELECT * FROM person WHERE size > :size', {'size':10})\n",
    "print(cur.fetchall())\n"
   ]
  },
  {
   "cell_type": "code",
   "execution_count": null,
   "metadata": {},
   "outputs": [],
   "source": [
    "update_sql = ' UPDATE person SET name = ? WHERE id = ? '\n",
    "update_param = ('changed_name', 1)\n",
    "cur.execute(update_sql, update_param) \n",
    "con.commit()"
   ]
  },
  {
   "cell_type": "code",
   "execution_count": null,
   "metadata": {},
   "outputs": [],
   "source": [
    "delete_sql = ' DELETE from person WHERE id = 1 '\n",
    "cur.execute(delete_sql) \n",
    "con.commit()"
   ]
  }
 ],
 "metadata": {
  "kernelspec": {
   "display_name": "venv",
   "language": "python",
   "name": "python3"
  },
  "language_info": {
   "codemirror_mode": {
    "name": "ipython",
    "version": 3
   },
   "file_extension": ".py",
   "mimetype": "text/x-python",
   "name": "python",
   "nbconvert_exporter": "python",
   "pygments_lexer": "ipython3",
   "version": "3.10.6"
  },
  "orig_nbformat": 4
 },
 "nbformat": 4,
 "nbformat_minor": 2
}
