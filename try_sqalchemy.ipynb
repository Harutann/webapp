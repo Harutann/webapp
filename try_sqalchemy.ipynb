{
 "cells": [
  {
   "cell_type": "code",
   "execution_count": 19,
   "metadata": {},
   "outputs": [],
   "source": [
    "from sqlalchemy import create_engine\n",
    "from sqlalchemy.orm import Session\n",
    "from test_model import Person\n"
   ]
  },
  {
   "cell_type": "code",
   "execution_count": 20,
   "metadata": {},
   "outputs": [],
   "source": [
    "engine = create_engine('sqlite:///test_db', echo=True)\n",
    "session = Session(engine)\n"
   ]
  },
  {
   "cell_type": "code",
   "execution_count": 21,
   "metadata": {},
   "outputs": [
    {
     "name": "stdout",
     "output_type": "stream",
     "text": [
      "2023-10-07 15:24:11,111 INFO sqlalchemy.engine.Engine BEGIN (implicit)\n",
      "2023-10-07 15:24:11,114 INFO sqlalchemy.engine.Engine SELECT person.id AS person_id, person.name AS person_name, person.size AS person_size \n",
      "FROM person\n",
      "2023-10-07 15:24:11,115 INFO sqlalchemy.engine.Engine [generated in 0.00134s] ()\n"
     ]
    }
   ],
   "source": [
    "persons = session.query(Person).all()\n"
   ]
  },
  {
   "cell_type": "code",
   "execution_count": 22,
   "metadata": {},
   "outputs": [
    {
     "name": "stdout",
     "output_type": "stream",
     "text": [
      "id:1 name:name_a size:10.5\n",
      "id:3 name:c_update size:3.14\n",
      "id:4 name:from_model size:100.0\n",
      "id:100 name:name_z size:99.9\n"
     ]
    }
   ],
   "source": [
    "for person in persons:\n",
    "    print(f'id:{person.id} name:{person.name} size:{person.size}')"
   ]
  },
  {
   "cell_type": "code",
   "execution_count": 23,
   "metadata": {},
   "outputs": [],
   "source": [
    "new_person = Person(id=4, name='from_model', size=100)\n",
    "session.add(new_person)\n"
   ]
  },
  {
   "cell_type": "code",
   "execution_count": 24,
   "metadata": {},
   "outputs": [
    {
     "name": "stdout",
     "output_type": "stream",
     "text": [
      "2023-10-07 15:24:11,549 INFO sqlalchemy.engine.Engine INSERT INTO person (id, name, size) VALUES (?, ?, ?)\n",
      "2023-10-07 15:24:11,550 INFO sqlalchemy.engine.Engine [generated in 0.00119s] (4, 'from_model', 100.0)\n",
      "2023-10-07 15:24:11,552 INFO sqlalchemy.engine.Engine ROLLBACK\n"
     ]
    },
    {
     "name": "stderr",
     "output_type": "stream",
     "text": [
      "/tmp/ipykernel_7521/1006174258.py:1: SAWarning: New instance <Person at 0x7f508d20fe20> with identity key (<class 'test_model.Person'>, (4,), None) conflicts with persistent instance <Person at 0x7f508d25c6a0>\n",
      "  session.commit()\n"
     ]
    },
    {
     "ename": "IntegrityError",
     "evalue": "(sqlite3.IntegrityError) UNIQUE constraint failed: person.id\n[SQL: INSERT INTO person (id, name, size) VALUES (?, ?, ?)]\n[parameters: (4, 'from_model', 100.0)]\n(Background on this error at: https://sqlalche.me/e/20/gkpj)",
     "output_type": "error",
     "traceback": [
      "\u001b[0;31m---------------------------------------------------------------------------\u001b[0m",
      "\u001b[0;31mIntegrityError\u001b[0m                            Traceback (most recent call last)",
      "File \u001b[0;32m~/webapp/venv/lib/python3.10/site-packages/sqlalchemy/engine/base.py:1965\u001b[0m, in \u001b[0;36mConnection._exec_single_context\u001b[0;34m(self, dialect, context, statement, parameters)\u001b[0m\n\u001b[1;32m   1964\u001b[0m     \u001b[39mif\u001b[39;00m \u001b[39mnot\u001b[39;00m evt_handled:\n\u001b[0;32m-> 1965\u001b[0m         \u001b[39mself\u001b[39;49m\u001b[39m.\u001b[39;49mdialect\u001b[39m.\u001b[39;49mdo_execute(\n\u001b[1;32m   1966\u001b[0m             cursor, str_statement, effective_parameters, context\n\u001b[1;32m   1967\u001b[0m         )\n\u001b[1;32m   1969\u001b[0m \u001b[39mif\u001b[39;00m \u001b[39mself\u001b[39m\u001b[39m.\u001b[39m_has_events \u001b[39mor\u001b[39;00m \u001b[39mself\u001b[39m\u001b[39m.\u001b[39mengine\u001b[39m.\u001b[39m_has_events:\n",
      "File \u001b[0;32m~/webapp/venv/lib/python3.10/site-packages/sqlalchemy/engine/default.py:921\u001b[0m, in \u001b[0;36mDefaultDialect.do_execute\u001b[0;34m(self, cursor, statement, parameters, context)\u001b[0m\n\u001b[1;32m    920\u001b[0m \u001b[39mdef\u001b[39;00m \u001b[39mdo_execute\u001b[39m(\u001b[39mself\u001b[39m, cursor, statement, parameters, context\u001b[39m=\u001b[39m\u001b[39mNone\u001b[39;00m):\n\u001b[0;32m--> 921\u001b[0m     cursor\u001b[39m.\u001b[39;49mexecute(statement, parameters)\n",
      "\u001b[0;31mIntegrityError\u001b[0m: UNIQUE constraint failed: person.id",
      "\nThe above exception was the direct cause of the following exception:\n",
      "\u001b[0;31mIntegrityError\u001b[0m                            Traceback (most recent call last)",
      "Cell \u001b[0;32mIn[24], line 1\u001b[0m\n\u001b[0;32m----> 1\u001b[0m session\u001b[39m.\u001b[39;49mcommit()\n",
      "File \u001b[0;32m~/webapp/venv/lib/python3.10/site-packages/sqlalchemy/orm/session.py:1923\u001b[0m, in \u001b[0;36mSession.commit\u001b[0;34m(self)\u001b[0m\n\u001b[1;32m   1920\u001b[0m \u001b[39mif\u001b[39;00m trans \u001b[39mis\u001b[39;00m \u001b[39mNone\u001b[39;00m:\n\u001b[1;32m   1921\u001b[0m     trans \u001b[39m=\u001b[39m \u001b[39mself\u001b[39m\u001b[39m.\u001b[39m_autobegin_t()\n\u001b[0;32m-> 1923\u001b[0m trans\u001b[39m.\u001b[39;49mcommit(_to_root\u001b[39m=\u001b[39;49m\u001b[39mTrue\u001b[39;49;00m)\n",
      "File \u001b[0;32m<string>:2\u001b[0m, in \u001b[0;36mcommit\u001b[0;34m(self, _to_root)\u001b[0m\n",
      "File \u001b[0;32m~/webapp/venv/lib/python3.10/site-packages/sqlalchemy/orm/state_changes.py:139\u001b[0m, in \u001b[0;36m_StateChange.declare_states.<locals>._go\u001b[0;34m(fn, self, *arg, **kw)\u001b[0m\n\u001b[1;32m    137\u001b[0m \u001b[39mself\u001b[39m\u001b[39m.\u001b[39m_next_state \u001b[39m=\u001b[39m _StateChangeStates\u001b[39m.\u001b[39mCHANGE_IN_PROGRESS\n\u001b[1;32m    138\u001b[0m \u001b[39mtry\u001b[39;00m:\n\u001b[0;32m--> 139\u001b[0m     ret_value \u001b[39m=\u001b[39m fn(\u001b[39mself\u001b[39;49m, \u001b[39m*\u001b[39;49marg, \u001b[39m*\u001b[39;49m\u001b[39m*\u001b[39;49mkw)\n\u001b[1;32m    140\u001b[0m \u001b[39mexcept\u001b[39;00m:\n\u001b[1;32m    141\u001b[0m     \u001b[39mraise\u001b[39;00m\n",
      "File \u001b[0;32m~/webapp/venv/lib/python3.10/site-packages/sqlalchemy/orm/session.py:1239\u001b[0m, in \u001b[0;36mSessionTransaction.commit\u001b[0;34m(self, _to_root)\u001b[0m\n\u001b[1;32m   1237\u001b[0m \u001b[39mif\u001b[39;00m \u001b[39mself\u001b[39m\u001b[39m.\u001b[39m_state \u001b[39mis\u001b[39;00m \u001b[39mnot\u001b[39;00m SessionTransactionState\u001b[39m.\u001b[39mPREPARED:\n\u001b[1;32m   1238\u001b[0m     \u001b[39mwith\u001b[39;00m \u001b[39mself\u001b[39m\u001b[39m.\u001b[39m_expect_state(SessionTransactionState\u001b[39m.\u001b[39mPREPARED):\n\u001b[0;32m-> 1239\u001b[0m         \u001b[39mself\u001b[39;49m\u001b[39m.\u001b[39;49m_prepare_impl()\n\u001b[1;32m   1241\u001b[0m \u001b[39mif\u001b[39;00m \u001b[39mself\u001b[39m\u001b[39m.\u001b[39m_parent \u001b[39mis\u001b[39;00m \u001b[39mNone\u001b[39;00m \u001b[39mor\u001b[39;00m \u001b[39mself\u001b[39m\u001b[39m.\u001b[39mnested:\n\u001b[1;32m   1242\u001b[0m     \u001b[39mfor\u001b[39;00m conn, trans, should_commit, autoclose \u001b[39min\u001b[39;00m \u001b[39mset\u001b[39m(\n\u001b[1;32m   1243\u001b[0m         \u001b[39mself\u001b[39m\u001b[39m.\u001b[39m_connections\u001b[39m.\u001b[39mvalues()\n\u001b[1;32m   1244\u001b[0m     ):\n",
      "File \u001b[0;32m<string>:2\u001b[0m, in \u001b[0;36m_prepare_impl\u001b[0;34m(self)\u001b[0m\n",
      "File \u001b[0;32m~/webapp/venv/lib/python3.10/site-packages/sqlalchemy/orm/state_changes.py:139\u001b[0m, in \u001b[0;36m_StateChange.declare_states.<locals>._go\u001b[0;34m(fn, self, *arg, **kw)\u001b[0m\n\u001b[1;32m    137\u001b[0m \u001b[39mself\u001b[39m\u001b[39m.\u001b[39m_next_state \u001b[39m=\u001b[39m _StateChangeStates\u001b[39m.\u001b[39mCHANGE_IN_PROGRESS\n\u001b[1;32m    138\u001b[0m \u001b[39mtry\u001b[39;00m:\n\u001b[0;32m--> 139\u001b[0m     ret_value \u001b[39m=\u001b[39m fn(\u001b[39mself\u001b[39;49m, \u001b[39m*\u001b[39;49marg, \u001b[39m*\u001b[39;49m\u001b[39m*\u001b[39;49mkw)\n\u001b[1;32m    140\u001b[0m \u001b[39mexcept\u001b[39;00m:\n\u001b[1;32m    141\u001b[0m     \u001b[39mraise\u001b[39;00m\n",
      "File \u001b[0;32m~/webapp/venv/lib/python3.10/site-packages/sqlalchemy/orm/session.py:1214\u001b[0m, in \u001b[0;36mSessionTransaction._prepare_impl\u001b[0;34m(self)\u001b[0m\n\u001b[1;32m   1212\u001b[0m     \u001b[39mif\u001b[39;00m \u001b[39mself\u001b[39m\u001b[39m.\u001b[39msession\u001b[39m.\u001b[39m_is_clean():\n\u001b[1;32m   1213\u001b[0m         \u001b[39mbreak\u001b[39;00m\n\u001b[0;32m-> 1214\u001b[0m     \u001b[39mself\u001b[39;49m\u001b[39m.\u001b[39;49msession\u001b[39m.\u001b[39;49mflush()\n\u001b[1;32m   1215\u001b[0m \u001b[39melse\u001b[39;00m:\n\u001b[1;32m   1216\u001b[0m     \u001b[39mraise\u001b[39;00m exc\u001b[39m.\u001b[39mFlushError(\n\u001b[1;32m   1217\u001b[0m         \u001b[39m\"\u001b[39m\u001b[39mOver 100 subsequent flushes have occurred within \u001b[39m\u001b[39m\"\u001b[39m\n\u001b[1;32m   1218\u001b[0m         \u001b[39m\"\u001b[39m\u001b[39msession.commit() - is an after_flush() hook \u001b[39m\u001b[39m\"\u001b[39m\n\u001b[1;32m   1219\u001b[0m         \u001b[39m\"\u001b[39m\u001b[39mcreating new objects?\u001b[39m\u001b[39m\"\u001b[39m\n\u001b[1;32m   1220\u001b[0m     )\n",
      "File \u001b[0;32m~/webapp/venv/lib/python3.10/site-packages/sqlalchemy/orm/session.py:4179\u001b[0m, in \u001b[0;36mSession.flush\u001b[0;34m(self, objects)\u001b[0m\n\u001b[1;32m   4177\u001b[0m \u001b[39mtry\u001b[39;00m:\n\u001b[1;32m   4178\u001b[0m     \u001b[39mself\u001b[39m\u001b[39m.\u001b[39m_flushing \u001b[39m=\u001b[39m \u001b[39mTrue\u001b[39;00m\n\u001b[0;32m-> 4179\u001b[0m     \u001b[39mself\u001b[39;49m\u001b[39m.\u001b[39;49m_flush(objects)\n\u001b[1;32m   4180\u001b[0m \u001b[39mfinally\u001b[39;00m:\n\u001b[1;32m   4181\u001b[0m     \u001b[39mself\u001b[39m\u001b[39m.\u001b[39m_flushing \u001b[39m=\u001b[39m \u001b[39mFalse\u001b[39;00m\n",
      "File \u001b[0;32m~/webapp/venv/lib/python3.10/site-packages/sqlalchemy/orm/session.py:4314\u001b[0m, in \u001b[0;36mSession._flush\u001b[0;34m(self, objects)\u001b[0m\n\u001b[1;32m   4311\u001b[0m     transaction\u001b[39m.\u001b[39mcommit()\n\u001b[1;32m   4313\u001b[0m \u001b[39mexcept\u001b[39;00m:\n\u001b[0;32m-> 4314\u001b[0m     \u001b[39mwith\u001b[39;00m util\u001b[39m.\u001b[39msafe_reraise():\n\u001b[1;32m   4315\u001b[0m         transaction\u001b[39m.\u001b[39mrollback(_capture_exception\u001b[39m=\u001b[39m\u001b[39mTrue\u001b[39;00m)\n",
      "File \u001b[0;32m~/webapp/venv/lib/python3.10/site-packages/sqlalchemy/util/langhelpers.py:146\u001b[0m, in \u001b[0;36msafe_reraise.__exit__\u001b[0;34m(self, type_, value, traceback)\u001b[0m\n\u001b[1;32m    144\u001b[0m     \u001b[39massert\u001b[39;00m exc_value \u001b[39mis\u001b[39;00m \u001b[39mnot\u001b[39;00m \u001b[39mNone\u001b[39;00m\n\u001b[1;32m    145\u001b[0m     \u001b[39mself\u001b[39m\u001b[39m.\u001b[39m_exc_info \u001b[39m=\u001b[39m \u001b[39mNone\u001b[39;00m  \u001b[39m# remove potential circular references\u001b[39;00m\n\u001b[0;32m--> 146\u001b[0m     \u001b[39mraise\u001b[39;00m exc_value\u001b[39m.\u001b[39mwith_traceback(exc_tb)\n\u001b[1;32m    147\u001b[0m \u001b[39melse\u001b[39;00m:\n\u001b[1;32m    148\u001b[0m     \u001b[39mself\u001b[39m\u001b[39m.\u001b[39m_exc_info \u001b[39m=\u001b[39m \u001b[39mNone\u001b[39;00m  \u001b[39m# remove potential circular references\u001b[39;00m\n",
      "File \u001b[0;32m~/webapp/venv/lib/python3.10/site-packages/sqlalchemy/orm/session.py:4275\u001b[0m, in \u001b[0;36mSession._flush\u001b[0;34m(self, objects)\u001b[0m\n\u001b[1;32m   4273\u001b[0m \u001b[39mself\u001b[39m\u001b[39m.\u001b[39m_warn_on_events \u001b[39m=\u001b[39m \u001b[39mTrue\u001b[39;00m\n\u001b[1;32m   4274\u001b[0m \u001b[39mtry\u001b[39;00m:\n\u001b[0;32m-> 4275\u001b[0m     flush_context\u001b[39m.\u001b[39;49mexecute()\n\u001b[1;32m   4276\u001b[0m \u001b[39mfinally\u001b[39;00m:\n\u001b[1;32m   4277\u001b[0m     \u001b[39mself\u001b[39m\u001b[39m.\u001b[39m_warn_on_events \u001b[39m=\u001b[39m \u001b[39mFalse\u001b[39;00m\n",
      "File \u001b[0;32m~/webapp/venv/lib/python3.10/site-packages/sqlalchemy/orm/unitofwork.py:466\u001b[0m, in \u001b[0;36mUOWTransaction.execute\u001b[0;34m(self)\u001b[0m\n\u001b[1;32m    464\u001b[0m \u001b[39melse\u001b[39;00m:\n\u001b[1;32m    465\u001b[0m     \u001b[39mfor\u001b[39;00m rec \u001b[39min\u001b[39;00m topological\u001b[39m.\u001b[39msort(\u001b[39mself\u001b[39m\u001b[39m.\u001b[39mdependencies, postsort_actions):\n\u001b[0;32m--> 466\u001b[0m         rec\u001b[39m.\u001b[39;49mexecute(\u001b[39mself\u001b[39;49m)\n",
      "File \u001b[0;32m~/webapp/venv/lib/python3.10/site-packages/sqlalchemy/orm/unitofwork.py:642\u001b[0m, in \u001b[0;36mSaveUpdateAll.execute\u001b[0;34m(self, uow)\u001b[0m\n\u001b[1;32m    640\u001b[0m \u001b[39m@util\u001b[39m\u001b[39m.\u001b[39mpreload_module(\u001b[39m\"\u001b[39m\u001b[39msqlalchemy.orm.persistence\u001b[39m\u001b[39m\"\u001b[39m)\n\u001b[1;32m    641\u001b[0m \u001b[39mdef\u001b[39;00m \u001b[39mexecute\u001b[39m(\u001b[39mself\u001b[39m, uow):\n\u001b[0;32m--> 642\u001b[0m     util\u001b[39m.\u001b[39;49mpreloaded\u001b[39m.\u001b[39;49morm_persistence\u001b[39m.\u001b[39;49msave_obj(\n\u001b[1;32m    643\u001b[0m         \u001b[39mself\u001b[39;49m\u001b[39m.\u001b[39;49mmapper,\n\u001b[1;32m    644\u001b[0m         uow\u001b[39m.\u001b[39;49mstates_for_mapper_hierarchy(\u001b[39mself\u001b[39;49m\u001b[39m.\u001b[39;49mmapper, \u001b[39mFalse\u001b[39;49;00m, \u001b[39mFalse\u001b[39;49;00m),\n\u001b[1;32m    645\u001b[0m         uow,\n\u001b[1;32m    646\u001b[0m     )\n",
      "File \u001b[0;32m~/webapp/venv/lib/python3.10/site-packages/sqlalchemy/orm/persistence.py:93\u001b[0m, in \u001b[0;36msave_obj\u001b[0;34m(base_mapper, states, uowtransaction, single)\u001b[0m\n\u001b[1;32m     81\u001b[0m     update \u001b[39m=\u001b[39m _collect_update_commands(\n\u001b[1;32m     82\u001b[0m         uowtransaction, table, states_to_update\n\u001b[1;32m     83\u001b[0m     )\n\u001b[1;32m     85\u001b[0m     _emit_update_statements(\n\u001b[1;32m     86\u001b[0m         base_mapper,\n\u001b[1;32m     87\u001b[0m         uowtransaction,\n\u001b[0;32m   (...)\u001b[0m\n\u001b[1;32m     90\u001b[0m         update,\n\u001b[1;32m     91\u001b[0m     )\n\u001b[0;32m---> 93\u001b[0m     _emit_insert_statements(\n\u001b[1;32m     94\u001b[0m         base_mapper,\n\u001b[1;32m     95\u001b[0m         uowtransaction,\n\u001b[1;32m     96\u001b[0m         mapper,\n\u001b[1;32m     97\u001b[0m         table,\n\u001b[1;32m     98\u001b[0m         insert,\n\u001b[1;32m     99\u001b[0m     )\n\u001b[1;32m    101\u001b[0m _finalize_insert_update_commands(\n\u001b[1;32m    102\u001b[0m     base_mapper,\n\u001b[1;32m    103\u001b[0m     uowtransaction,\n\u001b[0;32m   (...)\u001b[0m\n\u001b[1;32m    119\u001b[0m     ),\n\u001b[1;32m    120\u001b[0m )\n",
      "File \u001b[0;32m~/webapp/venv/lib/python3.10/site-packages/sqlalchemy/orm/persistence.py:1043\u001b[0m, in \u001b[0;36m_emit_insert_statements\u001b[0;34m(base_mapper, uowtransaction, mapper, table, insert, bookkeeping, use_orm_insert_stmt, execution_options)\u001b[0m\n\u001b[1;32m   1040\u001b[0m records \u001b[39m=\u001b[39m \u001b[39mlist\u001b[39m(records)\n\u001b[1;32m   1041\u001b[0m multiparams \u001b[39m=\u001b[39m [rec[\u001b[39m2\u001b[39m] \u001b[39mfor\u001b[39;00m rec \u001b[39min\u001b[39;00m records]\n\u001b[0;32m-> 1043\u001b[0m result \u001b[39m=\u001b[39m connection\u001b[39m.\u001b[39;49mexecute(\n\u001b[1;32m   1044\u001b[0m     statement, multiparams, execution_options\u001b[39m=\u001b[39;49mexecution_options\n\u001b[1;32m   1045\u001b[0m )\n\u001b[1;32m   1046\u001b[0m \u001b[39mif\u001b[39;00m bookkeeping:\n\u001b[1;32m   1047\u001b[0m     \u001b[39mfor\u001b[39;00m (\n\u001b[1;32m   1048\u001b[0m         (\n\u001b[1;32m   1049\u001b[0m             state,\n\u001b[0;32m   (...)\u001b[0m\n\u001b[1;32m   1058\u001b[0m         last_inserted_params,\n\u001b[1;32m   1059\u001b[0m     ) \u001b[39min\u001b[39;00m \u001b[39mzip\u001b[39m(records, result\u001b[39m.\u001b[39mcontext\u001b[39m.\u001b[39mcompiled_parameters):\n",
      "File \u001b[0;32m~/webapp/venv/lib/python3.10/site-packages/sqlalchemy/engine/base.py:1412\u001b[0m, in \u001b[0;36mConnection.execute\u001b[0;34m(self, statement, parameters, execution_options)\u001b[0m\n\u001b[1;32m   1410\u001b[0m     \u001b[39mraise\u001b[39;00m exc\u001b[39m.\u001b[39mObjectNotExecutableError(statement) \u001b[39mfrom\u001b[39;00m \u001b[39merr\u001b[39;00m\n\u001b[1;32m   1411\u001b[0m \u001b[39melse\u001b[39;00m:\n\u001b[0;32m-> 1412\u001b[0m     \u001b[39mreturn\u001b[39;00m meth(\n\u001b[1;32m   1413\u001b[0m         \u001b[39mself\u001b[39;49m,\n\u001b[1;32m   1414\u001b[0m         distilled_parameters,\n\u001b[1;32m   1415\u001b[0m         execution_options \u001b[39mor\u001b[39;49;00m NO_OPTIONS,\n\u001b[1;32m   1416\u001b[0m     )\n",
      "File \u001b[0;32m~/webapp/venv/lib/python3.10/site-packages/sqlalchemy/sql/elements.py:516\u001b[0m, in \u001b[0;36mClauseElement._execute_on_connection\u001b[0;34m(self, connection, distilled_params, execution_options)\u001b[0m\n\u001b[1;32m    514\u001b[0m     \u001b[39mif\u001b[39;00m TYPE_CHECKING:\n\u001b[1;32m    515\u001b[0m         \u001b[39massert\u001b[39;00m \u001b[39misinstance\u001b[39m(\u001b[39mself\u001b[39m, Executable)\n\u001b[0;32m--> 516\u001b[0m     \u001b[39mreturn\u001b[39;00m connection\u001b[39m.\u001b[39;49m_execute_clauseelement(\n\u001b[1;32m    517\u001b[0m         \u001b[39mself\u001b[39;49m, distilled_params, execution_options\n\u001b[1;32m    518\u001b[0m     )\n\u001b[1;32m    519\u001b[0m \u001b[39melse\u001b[39;00m:\n\u001b[1;32m    520\u001b[0m     \u001b[39mraise\u001b[39;00m exc\u001b[39m.\u001b[39mObjectNotExecutableError(\u001b[39mself\u001b[39m)\n",
      "File \u001b[0;32m~/webapp/venv/lib/python3.10/site-packages/sqlalchemy/engine/base.py:1635\u001b[0m, in \u001b[0;36mConnection._execute_clauseelement\u001b[0;34m(self, elem, distilled_parameters, execution_options)\u001b[0m\n\u001b[1;32m   1623\u001b[0m compiled_cache: Optional[CompiledCacheType] \u001b[39m=\u001b[39m execution_options\u001b[39m.\u001b[39mget(\n\u001b[1;32m   1624\u001b[0m     \u001b[39m\"\u001b[39m\u001b[39mcompiled_cache\u001b[39m\u001b[39m\"\u001b[39m, \u001b[39mself\u001b[39m\u001b[39m.\u001b[39mengine\u001b[39m.\u001b[39m_compiled_cache\n\u001b[1;32m   1625\u001b[0m )\n\u001b[1;32m   1627\u001b[0m compiled_sql, extracted_params, cache_hit \u001b[39m=\u001b[39m elem\u001b[39m.\u001b[39m_compile_w_cache(\n\u001b[1;32m   1628\u001b[0m     dialect\u001b[39m=\u001b[39mdialect,\n\u001b[1;32m   1629\u001b[0m     compiled_cache\u001b[39m=\u001b[39mcompiled_cache,\n\u001b[0;32m   (...)\u001b[0m\n\u001b[1;32m   1633\u001b[0m     linting\u001b[39m=\u001b[39m\u001b[39mself\u001b[39m\u001b[39m.\u001b[39mdialect\u001b[39m.\u001b[39mcompiler_linting \u001b[39m|\u001b[39m compiler\u001b[39m.\u001b[39mWARN_LINTING,\n\u001b[1;32m   1634\u001b[0m )\n\u001b[0;32m-> 1635\u001b[0m ret \u001b[39m=\u001b[39m \u001b[39mself\u001b[39;49m\u001b[39m.\u001b[39;49m_execute_context(\n\u001b[1;32m   1636\u001b[0m     dialect,\n\u001b[1;32m   1637\u001b[0m     dialect\u001b[39m.\u001b[39;49mexecution_ctx_cls\u001b[39m.\u001b[39;49m_init_compiled,\n\u001b[1;32m   1638\u001b[0m     compiled_sql,\n\u001b[1;32m   1639\u001b[0m     distilled_parameters,\n\u001b[1;32m   1640\u001b[0m     execution_options,\n\u001b[1;32m   1641\u001b[0m     compiled_sql,\n\u001b[1;32m   1642\u001b[0m     distilled_parameters,\n\u001b[1;32m   1643\u001b[0m     elem,\n\u001b[1;32m   1644\u001b[0m     extracted_params,\n\u001b[1;32m   1645\u001b[0m     cache_hit\u001b[39m=\u001b[39;49mcache_hit,\n\u001b[1;32m   1646\u001b[0m )\n\u001b[1;32m   1647\u001b[0m \u001b[39mif\u001b[39;00m has_events:\n\u001b[1;32m   1648\u001b[0m     \u001b[39mself\u001b[39m\u001b[39m.\u001b[39mdispatch\u001b[39m.\u001b[39mafter_execute(\n\u001b[1;32m   1649\u001b[0m         \u001b[39mself\u001b[39m,\n\u001b[1;32m   1650\u001b[0m         elem,\n\u001b[0;32m   (...)\u001b[0m\n\u001b[1;32m   1654\u001b[0m         ret,\n\u001b[1;32m   1655\u001b[0m     )\n",
      "File \u001b[0;32m~/webapp/venv/lib/python3.10/site-packages/sqlalchemy/engine/base.py:1844\u001b[0m, in \u001b[0;36mConnection._execute_context\u001b[0;34m(self, dialect, constructor, statement, parameters, execution_options, *args, **kw)\u001b[0m\n\u001b[1;32m   1839\u001b[0m     \u001b[39mreturn\u001b[39;00m \u001b[39mself\u001b[39m\u001b[39m.\u001b[39m_exec_insertmany_context(\n\u001b[1;32m   1840\u001b[0m         dialect,\n\u001b[1;32m   1841\u001b[0m         context,\n\u001b[1;32m   1842\u001b[0m     )\n\u001b[1;32m   1843\u001b[0m \u001b[39melse\u001b[39;00m:\n\u001b[0;32m-> 1844\u001b[0m     \u001b[39mreturn\u001b[39;00m \u001b[39mself\u001b[39;49m\u001b[39m.\u001b[39;49m_exec_single_context(\n\u001b[1;32m   1845\u001b[0m         dialect, context, statement, parameters\n\u001b[1;32m   1846\u001b[0m     )\n",
      "File \u001b[0;32m~/webapp/venv/lib/python3.10/site-packages/sqlalchemy/engine/base.py:1984\u001b[0m, in \u001b[0;36mConnection._exec_single_context\u001b[0;34m(self, dialect, context, statement, parameters)\u001b[0m\n\u001b[1;32m   1981\u001b[0m     result \u001b[39m=\u001b[39m context\u001b[39m.\u001b[39m_setup_result_proxy()\n\u001b[1;32m   1983\u001b[0m \u001b[39mexcept\u001b[39;00m \u001b[39mBaseException\u001b[39;00m \u001b[39mas\u001b[39;00m e:\n\u001b[0;32m-> 1984\u001b[0m     \u001b[39mself\u001b[39;49m\u001b[39m.\u001b[39;49m_handle_dbapi_exception(\n\u001b[1;32m   1985\u001b[0m         e, str_statement, effective_parameters, cursor, context\n\u001b[1;32m   1986\u001b[0m     )\n\u001b[1;32m   1988\u001b[0m \u001b[39mreturn\u001b[39;00m result\n",
      "File \u001b[0;32m~/webapp/venv/lib/python3.10/site-packages/sqlalchemy/engine/base.py:2339\u001b[0m, in \u001b[0;36mConnection._handle_dbapi_exception\u001b[0;34m(self, e, statement, parameters, cursor, context, is_sub_exec)\u001b[0m\n\u001b[1;32m   2337\u001b[0m \u001b[39melif\u001b[39;00m should_wrap:\n\u001b[1;32m   2338\u001b[0m     \u001b[39massert\u001b[39;00m sqlalchemy_exception \u001b[39mis\u001b[39;00m \u001b[39mnot\u001b[39;00m \u001b[39mNone\u001b[39;00m\n\u001b[0;32m-> 2339\u001b[0m     \u001b[39mraise\u001b[39;00m sqlalchemy_exception\u001b[39m.\u001b[39mwith_traceback(exc_info[\u001b[39m2\u001b[39m]) \u001b[39mfrom\u001b[39;00m \u001b[39me\u001b[39;00m\n\u001b[1;32m   2340\u001b[0m \u001b[39melse\u001b[39;00m:\n\u001b[1;32m   2341\u001b[0m     \u001b[39massert\u001b[39;00m exc_info[\u001b[39m1\u001b[39m] \u001b[39mis\u001b[39;00m \u001b[39mnot\u001b[39;00m \u001b[39mNone\u001b[39;00m\n",
      "File \u001b[0;32m~/webapp/venv/lib/python3.10/site-packages/sqlalchemy/engine/base.py:1965\u001b[0m, in \u001b[0;36mConnection._exec_single_context\u001b[0;34m(self, dialect, context, statement, parameters)\u001b[0m\n\u001b[1;32m   1963\u001b[0m                 \u001b[39mbreak\u001b[39;00m\n\u001b[1;32m   1964\u001b[0m     \u001b[39mif\u001b[39;00m \u001b[39mnot\u001b[39;00m evt_handled:\n\u001b[0;32m-> 1965\u001b[0m         \u001b[39mself\u001b[39;49m\u001b[39m.\u001b[39;49mdialect\u001b[39m.\u001b[39;49mdo_execute(\n\u001b[1;32m   1966\u001b[0m             cursor, str_statement, effective_parameters, context\n\u001b[1;32m   1967\u001b[0m         )\n\u001b[1;32m   1969\u001b[0m \u001b[39mif\u001b[39;00m \u001b[39mself\u001b[39m\u001b[39m.\u001b[39m_has_events \u001b[39mor\u001b[39;00m \u001b[39mself\u001b[39m\u001b[39m.\u001b[39mengine\u001b[39m.\u001b[39m_has_events:\n\u001b[1;32m   1970\u001b[0m     \u001b[39mself\u001b[39m\u001b[39m.\u001b[39mdispatch\u001b[39m.\u001b[39mafter_cursor_execute(\n\u001b[1;32m   1971\u001b[0m         \u001b[39mself\u001b[39m,\n\u001b[1;32m   1972\u001b[0m         cursor,\n\u001b[0;32m   (...)\u001b[0m\n\u001b[1;32m   1976\u001b[0m         context\u001b[39m.\u001b[39mexecutemany,\n\u001b[1;32m   1977\u001b[0m     )\n",
      "File \u001b[0;32m~/webapp/venv/lib/python3.10/site-packages/sqlalchemy/engine/default.py:921\u001b[0m, in \u001b[0;36mDefaultDialect.do_execute\u001b[0;34m(self, cursor, statement, parameters, context)\u001b[0m\n\u001b[1;32m    920\u001b[0m \u001b[39mdef\u001b[39;00m \u001b[39mdo_execute\u001b[39m(\u001b[39mself\u001b[39m, cursor, statement, parameters, context\u001b[39m=\u001b[39m\u001b[39mNone\u001b[39;00m):\n\u001b[0;32m--> 921\u001b[0m     cursor\u001b[39m.\u001b[39;49mexecute(statement, parameters)\n",
      "\u001b[0;31mIntegrityError\u001b[0m: (sqlite3.IntegrityError) UNIQUE constraint failed: person.id\n[SQL: INSERT INTO person (id, name, size) VALUES (?, ?, ?)]\n[parameters: (4, 'from_model', 100.0)]\n(Background on this error at: https://sqlalche.me/e/20/gkpj)"
     ]
    }
   ],
   "source": [
    "session.commit()\n"
   ]
  },
  {
   "cell_type": "code",
   "execution_count": null,
   "metadata": {},
   "outputs": [
    {
     "name": "stdout",
     "output_type": "stream",
     "text": [
      "2023-10-07 15:02:44,369 INFO sqlalchemy.engine.Engine BEGIN (implicit)\n",
      "2023-10-07 15:02:44,370 INFO sqlalchemy.engine.Engine SELECT person.id AS person_id, person.name AS person_name, person.size AS person_size \n",
      "FROM person\n",
      "2023-10-07 15:02:44,371 INFO sqlalchemy.engine.Engine [cached since 0.4791s ago] ()\n",
      "{'_sa_instance_state': <sqlalchemy.orm.state.InstanceState object at 0x7f508ea56380>, 'name': 'name_a', 'size': 10.5, 'id': 1}\n",
      "{'_sa_instance_state': <sqlalchemy.orm.state.InstanceState object at 0x7f508ea563e0>, 'name': 'c_update', 'size': 3.14, 'id': 3}\n",
      "{'_sa_instance_state': <sqlalchemy.orm.state.InstanceState object at 0x7f508ed93640>, 'name': 'from_model', 'size': 100.0, 'id': 4}\n",
      "{'_sa_instance_state': <sqlalchemy.orm.state.InstanceState object at 0x7f508ea56440>, 'name': 'name_z', 'size': 99.9, 'id': 100}\n"
     ]
    }
   ],
   "source": [
    "persons = session.query(Person).all()\n",
    "for person in persons:\n",
    "    print(person.__dict__)\n"
   ]
  },
  {
   "cell_type": "code",
   "execution_count": null,
   "metadata": {},
   "outputs": [],
   "source": [
    "person4 = session.query(Person).filter(Person.id==4).first()\n"
   ]
  },
  {
   "cell_type": "code",
   "execution_count": null,
   "metadata": {},
   "outputs": [],
   "source": [
    "person4.size = 2.236\n"
   ]
  },
  {
   "cell_type": "code",
   "execution_count": null,
   "metadata": {},
   "outputs": [],
   "source": [
    "session.commit()\n"
   ]
  },
  {
   "cell_type": "code",
   "execution_count": null,
   "metadata": {},
   "outputs": [],
   "source": [
    "session.query(Person).filter(Person.size>10).delete()\n"
   ]
  },
  {
   "cell_type": "code",
   "execution_count": null,
   "metadata": {},
   "outputs": [],
   "source": [
    "session.commit()\n"
   ]
  },
  {
   "cell_type": "code",
   "execution_count": null,
   "metadata": {},
   "outputs": [],
   "source": [
    "result_list = session.execute('SELECT * FROM person WHERE id = :id', {\"id\":4}) \n"
   ]
  },
  {
   "cell_type": "code",
   "execution_count": null,
   "metadata": {},
   "outputs": [],
   "source": [
    "for result in result_list:\n",
    "    print(result)\n"
   ]
  },
  {
   "cell_type": "code",
   "execution_count": null,
   "metadata": {},
   "outputs": [],
   "source": [
    "session.close()\n"
   ]
  },
  {
   "cell_type": "code",
   "execution_count": null,
   "metadata": {},
   "outputs": [],
   "source": []
  }
 ],
 "metadata": {
  "kernelspec": {
   "display_name": "venv",
   "language": "python",
   "name": "python3"
  },
  "language_info": {
   "codemirror_mode": {
    "name": "ipython",
    "version": 3
   },
   "file_extension": ".py",
   "mimetype": "text/x-python",
   "name": "python",
   "nbconvert_exporter": "python",
   "pygments_lexer": "ipython3",
   "version": "3.10.6"
  }
 },
 "nbformat": 4,
 "nbformat_minor": 2
}
