{
 "cells": [
  {
   "cell_type": "code",
   "execution_count": 6,
   "metadata": {},
   "outputs": [],
   "source": [
    "from sqlalchemy import create_engine\n",
    "from sqlalchemy.orm import Session\n",
    "from test_model import Person\n"
   ]
  },
  {
   "cell_type": "code",
   "execution_count": 7,
   "metadata": {},
   "outputs": [],
   "source": [
    "engine = create_engine('sqlite:///test_db', echo=True)\n",
    "session = Session(engine)\n"
   ]
  },
  {
   "cell_type": "code",
   "execution_count": 8,
   "metadata": {},
   "outputs": [
    {
     "name": "stdout",
     "output_type": "stream",
     "text": [
      "2023-10-07 15:02:43,889 INFO sqlalchemy.engine.Engine BEGIN (implicit)\n",
      "2023-10-07 15:02:43,892 INFO sqlalchemy.engine.Engine SELECT person.id AS person_id, person.name AS person_name, person.size AS person_size \n",
      "FROM person\n",
      "2023-10-07 15:02:43,894 INFO sqlalchemy.engine.Engine [generated in 0.00146s] ()\n"
     ]
    }
   ],
   "source": [
    "persons = session.query(Person).all()\n"
   ]
  },
  {
   "cell_type": "code",
   "execution_count": 9,
   "metadata": {},
   "outputs": [
    {
     "name": "stdout",
     "output_type": "stream",
     "text": [
      "id:1 name:name_a size:10.5\n",
      "id:3 name:c_update size:3.14\n",
      "id:100 name:name_z size:99.9\n"
     ]
    }
   ],
   "source": [
    "for person in persons:\n",
    "    print(f'id:{person.id} name:{person.name} size:{person.size}')"
   ]
  },
  {
   "cell_type": "code",
   "execution_count": 10,
   "metadata": {},
   "outputs": [],
   "source": [
    "new_person = Person(id=4, name='from_model', size=100)\n",
    "session.add(new_person)\n"
   ]
  },
  {
   "cell_type": "code",
   "execution_count": 11,
   "metadata": {},
   "outputs": [
    {
     "name": "stdout",
     "output_type": "stream",
     "text": [
      "2023-10-07 15:02:44,257 INFO sqlalchemy.engine.Engine INSERT INTO person (id, name, size) VALUES (?, ?, ?)\n",
      "2023-10-07 15:02:44,259 INFO sqlalchemy.engine.Engine [generated in 0.00213s] (4, 'from_model', 100.0)\n",
      "2023-10-07 15:02:44,261 INFO sqlalchemy.engine.Engine COMMIT\n"
     ]
    }
   ],
   "source": [
    "session.commit()\n"
   ]
  },
  {
   "cell_type": "code",
   "execution_count": 12,
   "metadata": {},
   "outputs": [
    {
     "name": "stdout",
     "output_type": "stream",
     "text": [
      "2023-10-07 15:02:44,369 INFO sqlalchemy.engine.Engine BEGIN (implicit)\n",
      "2023-10-07 15:02:44,370 INFO sqlalchemy.engine.Engine SELECT person.id AS person_id, person.name AS person_name, person.size AS person_size \n",
      "FROM person\n",
      "2023-10-07 15:02:44,371 INFO sqlalchemy.engine.Engine [cached since 0.4791s ago] ()\n",
      "{'_sa_instance_state': <sqlalchemy.orm.state.InstanceState object at 0x7f508ea56380>, 'name': 'name_a', 'size': 10.5, 'id': 1}\n",
      "{'_sa_instance_state': <sqlalchemy.orm.state.InstanceState object at 0x7f508ea563e0>, 'name': 'c_update', 'size': 3.14, 'id': 3}\n",
      "{'_sa_instance_state': <sqlalchemy.orm.state.InstanceState object at 0x7f508ed93640>, 'name': 'from_model', 'size': 100.0, 'id': 4}\n",
      "{'_sa_instance_state': <sqlalchemy.orm.state.InstanceState object at 0x7f508ea56440>, 'name': 'name_z', 'size': 99.9, 'id': 100}\n"
     ]
    }
   ],
   "source": [
    "persons = session.query(Person).all()\n",
    "for person in persons:\n",
    "    print(person.__dict__)\n"
   ]
  },
  {
   "cell_type": "code",
   "execution_count": null,
   "metadata": {},
   "outputs": [],
   "source": [
    "person4 = session.query(Person).filter(Person.id==4).first()\n"
   ]
  },
  {
   "cell_type": "code",
   "execution_count": null,
   "metadata": {},
   "outputs": [],
   "source": [
    "person4.size = 2.236\n"
   ]
  },
  {
   "cell_type": "code",
   "execution_count": null,
   "metadata": {},
   "outputs": [],
   "source": [
    "session.commit()\n"
   ]
  },
  {
   "cell_type": "code",
   "execution_count": null,
   "metadata": {},
   "outputs": [],
   "source": [
    "session.query(Person).filter(Person.size>10).delete()\n"
   ]
  },
  {
   "cell_type": "code",
   "execution_count": null,
   "metadata": {},
   "outputs": [],
   "source": [
    "session.commit()\n"
   ]
  }
 ],
 "metadata": {
  "kernelspec": {
   "display_name": "venv",
   "language": "python",
   "name": "python3"
  },
  "language_info": {
   "codemirror_mode": {
    "name": "ipython",
    "version": 3
   },
   "file_extension": ".py",
   "mimetype": "text/x-python",
   "name": "python",
   "nbconvert_exporter": "python",
   "pygments_lexer": "ipython3",
   "version": "3.10.6"
  }
 },
 "nbformat": 4,
 "nbformat_minor": 2
}
